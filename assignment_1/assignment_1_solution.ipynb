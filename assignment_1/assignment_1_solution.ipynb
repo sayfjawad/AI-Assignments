{
 "cells": [
  {
   "cell_type": "code",
   "execution_count": 12,
   "metadata": {},
   "outputs": [
    {
     "name": "stdout",
     "output_type": "stream",
     "text": [
      "Libraries loaded\n"
     ]
    }
   ],
   "source": [
    "### IMPORT NECESSARY LIBRARIES AND MODULES\n",
    "\n",
    "# For data manipulation and analysis\n",
    "import pandas as pd\n",
    "\n",
    "# For arrays and matrices manipulation\n",
    "import numpy as np\n",
    "\n",
    "# For visualization\n",
    "import matplotlib.pyplot as plt\n",
    "\n",
    "print(\"Libraries loaded\")"
   ]
  },
  {
   "cell_type": "code",
   "execution_count": 13,
   "metadata": {},
   "outputs": [
    {
     "data": {
      "text/html": [
       "<div>\n",
       "<style scoped>\n",
       "    .dataframe tbody tr th:only-of-type {\n",
       "        vertical-align: middle;\n",
       "    }\n",
       "\n",
       "    .dataframe tbody tr th {\n",
       "        vertical-align: top;\n",
       "    }\n",
       "\n",
       "    .dataframe thead th {\n",
       "        text-align: right;\n",
       "    }\n",
       "</style>\n",
       "<table border=\"1\" class=\"dataframe\">\n",
       "  <thead>\n",
       "    <tr style=\"text-align: right;\">\n",
       "      <th></th>\n",
       "      <th>avg_area_income</th>\n",
       "      <th>avg_house_age</th>\n",
       "      <th>avg_nb_rooms</th>\n",
       "      <th>avg_nb_bathrooms</th>\n",
       "      <th>area_population</th>\n",
       "      <th>house_price</th>\n",
       "      <th>address</th>\n",
       "    </tr>\n",
       "  </thead>\n",
       "  <tbody>\n",
       "    <tr>\n",
       "      <th>0</th>\n",
       "      <td>79545.458574</td>\n",
       "      <td>5.682861</td>\n",
       "      <td>7.009188</td>\n",
       "      <td>4.09</td>\n",
       "      <td>23086.800503</td>\n",
       "      <td>1.059034e+06</td>\n",
       "      <td>208 Michael Ferry Apt. 674\\nLaurabury, NE 3701...</td>\n",
       "    </tr>\n",
       "    <tr>\n",
       "      <th>1</th>\n",
       "      <td>79248.642455</td>\n",
       "      <td>6.002900</td>\n",
       "      <td>6.730821</td>\n",
       "      <td>3.09</td>\n",
       "      <td>40173.072174</td>\n",
       "      <td>1.505891e+06</td>\n",
       "      <td>188 Johnson Views Suite 079\\nLake Kathleen, CA...</td>\n",
       "    </tr>\n",
       "    <tr>\n",
       "      <th>2</th>\n",
       "      <td>61287.067179</td>\n",
       "      <td>5.865890</td>\n",
       "      <td>8.512727</td>\n",
       "      <td>5.13</td>\n",
       "      <td>36882.159400</td>\n",
       "      <td>1.058988e+06</td>\n",
       "      <td>9127 Elizabeth Stravenue\\nDanieltown, WI 06482...</td>\n",
       "    </tr>\n",
       "    <tr>\n",
       "      <th>3</th>\n",
       "      <td>63345.240046</td>\n",
       "      <td>7.188236</td>\n",
       "      <td>5.586729</td>\n",
       "      <td>3.26</td>\n",
       "      <td>34310.242831</td>\n",
       "      <td>1.260617e+06</td>\n",
       "      <td>USS Barnett\\nFPO AP 44820</td>\n",
       "    </tr>\n",
       "    <tr>\n",
       "      <th>4</th>\n",
       "      <td>59982.197226</td>\n",
       "      <td>5.040555</td>\n",
       "      <td>7.839388</td>\n",
       "      <td>4.23</td>\n",
       "      <td>26354.109472</td>\n",
       "      <td>6.309435e+05</td>\n",
       "      <td>USNS Raymond\\nFPO AE 09386</td>\n",
       "    </tr>\n",
       "    <tr>\n",
       "      <th>...</th>\n",
       "      <td>...</td>\n",
       "      <td>...</td>\n",
       "      <td>...</td>\n",
       "      <td>...</td>\n",
       "      <td>...</td>\n",
       "      <td>...</td>\n",
       "      <td>...</td>\n",
       "    </tr>\n",
       "    <tr>\n",
       "      <th>4029</th>\n",
       "      <td>60567.944140</td>\n",
       "      <td>7.830362</td>\n",
       "      <td>6.137356</td>\n",
       "      <td>3.46</td>\n",
       "      <td>22837.361035</td>\n",
       "      <td>1.060194e+06</td>\n",
       "      <td>USNS Williams\\nFPO AP 30153-7653</td>\n",
       "    </tr>\n",
       "    <tr>\n",
       "      <th>4030</th>\n",
       "      <td>78491.275435</td>\n",
       "      <td>6.999135</td>\n",
       "      <td>6.576763</td>\n",
       "      <td>4.02</td>\n",
       "      <td>25616.115489</td>\n",
       "      <td>1.482618e+06</td>\n",
       "      <td>PSC 9258, Box 8489\\nAPO AA 42991-3352</td>\n",
       "    </tr>\n",
       "    <tr>\n",
       "      <th>4031</th>\n",
       "      <td>63390.686886</td>\n",
       "      <td>7.250591</td>\n",
       "      <td>4.805081</td>\n",
       "      <td>2.13</td>\n",
       "      <td>33266.145490</td>\n",
       "      <td>1.030730e+06</td>\n",
       "      <td>4215 Tracy Garden Suite 076\\nJoshualand, VA 01...</td>\n",
       "    </tr>\n",
       "    <tr>\n",
       "      <th>4032</th>\n",
       "      <td>68001.331235</td>\n",
       "      <td>5.534388</td>\n",
       "      <td>7.130144</td>\n",
       "      <td>5.44</td>\n",
       "      <td>42625.620156</td>\n",
       "      <td>1.198657e+06</td>\n",
       "      <td>USS Wallace\\nFPO AE 73316</td>\n",
       "    </tr>\n",
       "    <tr>\n",
       "      <th>4033</th>\n",
       "      <td>65510.581804</td>\n",
       "      <td>5.992305</td>\n",
       "      <td>6.792336</td>\n",
       "      <td>4.07</td>\n",
       "      <td>46501.283803</td>\n",
       "      <td>1.298950e+06</td>\n",
       "      <td>37778 George Ridges Apt. 509\\nEast Holly, NV 2...</td>\n",
       "    </tr>\n",
       "  </tbody>\n",
       "</table>\n",
       "<p>4034 rows × 7 columns</p>\n",
       "</div>"
      ],
      "text/plain": [
       "      avg_area_income  avg_house_age  avg_nb_rooms  avg_nb_bathrooms  \\\n",
       "0        79545.458574       5.682861      7.009188              4.09   \n",
       "1        79248.642455       6.002900      6.730821              3.09   \n",
       "2        61287.067179       5.865890      8.512727              5.13   \n",
       "3        63345.240046       7.188236      5.586729              3.26   \n",
       "4        59982.197226       5.040555      7.839388              4.23   \n",
       "...               ...            ...           ...               ...   \n",
       "4029     60567.944140       7.830362      6.137356              3.46   \n",
       "4030     78491.275435       6.999135      6.576763              4.02   \n",
       "4031     63390.686886       7.250591      4.805081              2.13   \n",
       "4032     68001.331235       5.534388      7.130144              5.44   \n",
       "4033     65510.581804       5.992305      6.792336              4.07   \n",
       "\n",
       "      area_population   house_price  \\\n",
       "0        23086.800503  1.059034e+06   \n",
       "1        40173.072174  1.505891e+06   \n",
       "2        36882.159400  1.058988e+06   \n",
       "3        34310.242831  1.260617e+06   \n",
       "4        26354.109472  6.309435e+05   \n",
       "...               ...           ...   \n",
       "4029     22837.361035  1.060194e+06   \n",
       "4030     25616.115489  1.482618e+06   \n",
       "4031     33266.145490  1.030730e+06   \n",
       "4032     42625.620156  1.198657e+06   \n",
       "4033     46501.283803  1.298950e+06   \n",
       "\n",
       "                                                address  \n",
       "0     208 Michael Ferry Apt. 674\\nLaurabury, NE 3701...  \n",
       "1     188 Johnson Views Suite 079\\nLake Kathleen, CA...  \n",
       "2     9127 Elizabeth Stravenue\\nDanieltown, WI 06482...  \n",
       "3                             USS Barnett\\nFPO AP 44820  \n",
       "4                            USNS Raymond\\nFPO AE 09386  \n",
       "...                                                 ...  \n",
       "4029                   USNS Williams\\nFPO AP 30153-7653  \n",
       "4030              PSC 9258, Box 8489\\nAPO AA 42991-3352  \n",
       "4031  4215 Tracy Garden Suite 076\\nJoshualand, VA 01...  \n",
       "4032                          USS Wallace\\nFPO AE 73316  \n",
       "4033  37778 George Ridges Apt. 509\\nEast Holly, NV 2...  \n",
       "\n",
       "[4034 rows x 7 columns]"
      ]
     },
     "execution_count": 13,
     "metadata": {},
     "output_type": "execute_result"
    }
   ],
   "source": [
    "### LOAD TRAINING DATA\n",
    "\n",
    "# Read data from .csv file (this returns an object of type \"DataFrame\")\n",
    "df = pd.read_csv('usa_housing_training.csv')\n",
    "\n",
    "# Print the data table\n",
    "df"
   ]
  },
  {
   "cell_type": "code",
   "execution_count": 14,
   "metadata": {},
   "outputs": [],
   "source": [
    "### SELECT ONLY CONCERNED COLUMNS\n",
    "\n",
    "# Take only column 'avg_area_income' as the input feature\n",
    "x_train = df[['avg_area_income']] # operator [] is used for slicing\n",
    "\n",
    "# Take only column 'house_price' as the output\n",
    "y_train = df[['house_price']]"
   ]
  },
  {
   "cell_type": "code",
   "execution_count": 15,
   "metadata": {},
   "outputs": [
    {
     "data": {
      "text/html": [
       "<div>\n",
       "<style scoped>\n",
       "    .dataframe tbody tr th:only-of-type {\n",
       "        vertical-align: middle;\n",
       "    }\n",
       "\n",
       "    .dataframe tbody tr th {\n",
       "        vertical-align: top;\n",
       "    }\n",
       "\n",
       "    .dataframe thead th {\n",
       "        text-align: right;\n",
       "    }\n",
       "</style>\n",
       "<table border=\"1\" class=\"dataframe\">\n",
       "  <thead>\n",
       "    <tr style=\"text-align: right;\">\n",
       "      <th></th>\n",
       "      <th>house_price</th>\n",
       "    </tr>\n",
       "  </thead>\n",
       "  <tbody>\n",
       "    <tr>\n",
       "      <th>0</th>\n",
       "      <td>1.059034e+06</td>\n",
       "    </tr>\n",
       "    <tr>\n",
       "      <th>1</th>\n",
       "      <td>1.505891e+06</td>\n",
       "    </tr>\n",
       "    <tr>\n",
       "      <th>2</th>\n",
       "      <td>1.058988e+06</td>\n",
       "    </tr>\n",
       "    <tr>\n",
       "      <th>3</th>\n",
       "      <td>1.260617e+06</td>\n",
       "    </tr>\n",
       "    <tr>\n",
       "      <th>4</th>\n",
       "      <td>6.309435e+05</td>\n",
       "    </tr>\n",
       "    <tr>\n",
       "      <th>...</th>\n",
       "      <td>...</td>\n",
       "    </tr>\n",
       "    <tr>\n",
       "      <th>4029</th>\n",
       "      <td>1.060194e+06</td>\n",
       "    </tr>\n",
       "    <tr>\n",
       "      <th>4030</th>\n",
       "      <td>1.482618e+06</td>\n",
       "    </tr>\n",
       "    <tr>\n",
       "      <th>4031</th>\n",
       "      <td>1.030730e+06</td>\n",
       "    </tr>\n",
       "    <tr>\n",
       "      <th>4032</th>\n",
       "      <td>1.198657e+06</td>\n",
       "    </tr>\n",
       "    <tr>\n",
       "      <th>4033</th>\n",
       "      <td>1.298950e+06</td>\n",
       "    </tr>\n",
       "  </tbody>\n",
       "</table>\n",
       "<p>4034 rows × 1 columns</p>\n",
       "</div>"
      ],
      "text/plain": [
       "       house_price\n",
       "0     1.059034e+06\n",
       "1     1.505891e+06\n",
       "2     1.058988e+06\n",
       "3     1.260617e+06\n",
       "4     6.309435e+05\n",
       "...            ...\n",
       "4029  1.060194e+06\n",
       "4030  1.482618e+06\n",
       "4031  1.030730e+06\n",
       "4032  1.198657e+06\n",
       "4033  1.298950e+06\n",
       "\n",
       "[4034 rows x 1 columns]"
      ]
     },
     "execution_count": 15,
     "metadata": {},
     "output_type": "execute_result"
    }
   ],
   "source": [
    "y_train"
   ]
  },
  {
   "cell_type": "code",
   "execution_count": 16,
   "metadata": {},
   "outputs": [
    {
     "name": "stdout",
     "output_type": "stream",
     "text": [
      "<class 'pandas.core.frame.DataFrame'>\n"
     ]
    }
   ],
   "source": [
    "print(type(x_train))"
   ]
  },
  {
   "cell_type": "code",
   "execution_count": 17,
   "metadata": {},
   "outputs": [
    {
     "data": {
      "image/png": "[encoded data removed]",
      "text/plain": [
       "<Figure size 432x288 with 1 Axes>"
      ]
     },
     "metadata": {},
     "output_type": "display_data"
    }
   ],
   "source": [
    "### VISUALIZE DATA\n",
    "\n",
    "# Draw the scatter plot of the training data\n",
    "plt.scatter(x_train, y_train, c='blue', s=2)\n",
    "\n",
    "# Set the axes labels\n",
    "plt.xlabel('average income')\n",
    "plt.ylabel('house price')\n",
    "\n",
    "# Show the scatter plot\n",
    "plt.show()"
   ]
  },
  {
   "cell_type": "code",
   "execution_count": 18,
   "metadata": {},
   "outputs": [
    {
     "data": {
      "image/png": "[encoded data removed]",
      "text/plain": [
       "<Figure size 432x288 with 1 Axes>"
      ]
     },
     "metadata": {},
     "output_type": "display_data"
    }
   ],
   "source": [
    "### DRAW AN ARBITRARY STRAIGHT LINE (JUST FOR DEMO)\n",
    "\n",
    "# Setup a straight line: y = phi1 * x + phi0 (for phi0 and phi1: ref. to the lecture)\n",
    "phi0 = -10000\n",
    "phi1 = 22\n",
    "x = np.array(range(30000, 100000)) # this creates a Numpy array from the sequence: 30000, 30001, 30002, ... 99999\n",
    "y = phi1 * x + phi0 # this creates a Numpy array whose values are the mapping of x's values\n",
    "\n",
    "# Draw the scatter plot along with the straight line\n",
    "plt.scatter(x_train, y_train, c='blue', s=2)\n",
    "plt.plot(x, y, '-r') # draw the red straight line\n",
    "plt.xlabel('average income')\n",
    "plt.ylabel('house price')\n",
    "plt.show()"
   ]
  },
  {
   "cell_type": "code",
   "execution_count": 19,
   "metadata": {},
   "outputs": [],
   "source": [
    "################ Your exercise: IMPLEMENT THE COST FUNCTION #################\n",
    "# You will implement the Mean Squared Error\n",
    "\n",
    "# This function computes the mean squared error between the\n",
    "# actual output and the predicted output.\n",
    "# actual: a Numpy array containing the actual output in the training set\n",
    "# predicted: a Numpy array containing the predicted output for each element in actual\n",
    "def cost_mse(actual, predicted):\n",
    "    \n",
    "    ################## SOLUTION CODE ###################\n",
    "    # Get the size of the training set\n",
    "    M = len(actual) # = len(predicted)\n",
    "    \n",
    "    # Calculate the mean squared error\n",
    "    cost = (1/M) * np.sum((predicted - actual)**2)\n",
    "    \n",
    "    ####################################################\n",
    "    \n",
    "    return cost # You have to return the cost value here"
   ]
  },
  {
   "cell_type": "code",
   "execution_count": 20,
   "metadata": {},
   "outputs": [
    {
     "name": "stdout",
     "output_type": "stream",
     "text": [
      "Cost value =  145860385575.24652\n"
     ]
    }
   ],
   "source": [
    "### CALCULATE THE COST VALUE FOR A GIVEN SOLUTION\n",
    "\n",
    "actual = y_train.to_numpy() # Must convert it into Numpy array\n",
    "predicted = phi1 * x_train.to_numpy() + phi0\n",
    "\n",
    "cost = cost_mse(actual, predicted)\n",
    "print(\"Cost value = \", cost)\n",
    "\n",
    "# If your implementation is correct, this should return 145860385575.24652 for the given demo phi0 and phi1"
   ]
  }
 ],
 "metadata": {
  "kernelspec": {
   "display_name": "Python 3 (ipykernel)",
   "language": "python",
   "name": "python3"
  },
  "language_info": {
   "codemirror_mode": {
    "name": "ipython",
    "version": 3
   },
   "file_extension": ".py",
   "mimetype": "text/x-python",
   "name": "python",
   "nbconvert_exporter": "python",
   "pygments_lexer": "ipython3",
   "version": "3.11.3"
  }
 },
 "nbformat": 4,
 "nbformat_minor": 2
}
